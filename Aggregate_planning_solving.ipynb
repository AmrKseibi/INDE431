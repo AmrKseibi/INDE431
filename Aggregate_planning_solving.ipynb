{
  "nbformat": 4,
  "nbformat_minor": 0,
  "metadata": {
    "colab": {
      "provenance": [],
      "authorship_tag": "ABX9TyMODMciUoiOVks2UYP5UI43",
      "include_colab_link": true
    },
    "kernelspec": {
      "name": "python3",
      "display_name": "Python 3"
    },
    "language_info": {
      "name": "python"
    }
  },
  "cells": [
    {
      "cell_type": "markdown",
      "metadata": {
        "id": "view-in-github",
        "colab_type": "text"
      },
      "source": [
        "<a href=\"https://colab.research.google.com/github/husseintarhini/INDE431/blob/main/Aggregate_planning.ipynb\" target=\"_parent\"><img src=\"https://colab.research.google.com/assets/colab-badge.svg\" alt=\"Open In Colab\"/></a>"
      ]
    },
    {
      "cell_type": "code",
      "execution_count": 1,
      "metadata": {
        "colab": {
          "base_uri": "https://localhost:8080/"
        },
        "id": "H_vC73uoliCM",
        "outputId": "357f2cce-4cb9-41e5-ceb8-e341efd7edc4"
      },
      "outputs": [
        {
          "output_type": "stream",
          "name": "stdout",
          "text": [
            "Looking in indexes: https://pypi.org/simple, https://us-python.pkg.dev/colab-wheels/public/simple/\n",
            "Collecting pulp\n",
            "  Downloading PuLP-2.7.0-py3-none-any.whl (14.3 MB)\n",
            "\u001b[2K     \u001b[90m━━━━━━━━━━━━━━━━━━━━━━━━━━━━━━━━━━━━━━━━\u001b[0m \u001b[32m14.3/14.3 MB\u001b[0m \u001b[31m45.5 MB/s\u001b[0m eta \u001b[36m0:00:00\u001b[0m\n",
            "\u001b[?25hInstalling collected packages: pulp\n",
            "Successfully installed pulp-2.7.0\n"
          ]
        }
      ],
      "source": [
        "!pip install pulp"
      ]
    },
    {
      "cell_type": "code",
      "source": [
        "import pulp as pl"
      ],
      "metadata": {
        "id": "EduQdadZmHzr"
      },
      "execution_count": 3,
      "outputs": []
    },
    {
      "cell_type": "markdown",
      "source": [
        "Finding the optimal aggregate plan with optimization"
      ],
      "metadata": {
        "id": "IkgLkCgSlvir"
      }
    },
    {
      "cell_type": "code",
      "source": [
        "###parameters\n",
        "D=[0 ,1280,640,900,1200,2000,1400 ] #Demand during planning horizon\n",
        "n=[0,20,24,16,26,22,15] #number of working days\n",
        "K=0.14653 # number of disk drives produced by 1 worker in 1 day\n",
        "I0=500 #initial inventory\n",
        "IT=600 #final inventory\n",
        "W0=300 #initial number of workers\n",
        "T=6 #planning horizon\n",
        "hiring=500\n",
        "firing=1000\n",
        "holding=80\n",
        "###decision variables\n",
        "I=pl.LpVariable.dicts('I',range(T+1),lowBound=0)   #range(7)=[0,6]\n",
        "P=pl.LpVariable.dicts('P',range(1,T+1),lowBound=0) #units produced in time T\n",
        "W=pl.LpVariable.dicts('W',range(T+1),lowBound=0) #workers at time T\n",
        "H=pl.LpVariable.dicts('H',range(1,T+1),lowBound=0)\n",
        "F=pl.LpVariable.dicts('F',range(1,T+1),lowBound=0)\n"
      ],
      "metadata": {
        "id": "ubRyoZ0_lpN5"
      },
      "execution_count": 4,
      "outputs": []
    },
    {
      "cell_type": "code",
      "source": [
        "##model definition\n",
        "model=pl.LpProblem('aggregate planning', pl.LpMinimize) # minimize total cost\n",
        "\n",
        "#objective function\n",
        "model += holding*pl.lpSum(I[t] for t in range(1,7))+hiring*pl.lpSum(H[t] for t in range(1,7))+firing*pl.lpSum(F[t] for t in range(1,7))\n",
        "\n",
        "#constraints\n",
        "model += W[0]==W0\n",
        "model += I[0]==I0\n",
        "model += I[T]==IT \n",
        "for t in range(1,T+1):\n",
        "    model += I[t]==I[t-1]+P[t]-D[t]\n",
        "    model += W[t]==W[t-1]+H[t]-F[t]\n",
        "    model+= P[t]<= n[t]*K*W[t]\n",
        "\n",
        "\n",
        "\n",
        "\n",
        "\n"
      ],
      "metadata": {
        "colab": {
          "base_uri": "https://localhost:8080/"
        },
        "id": "Dsc2Zf5Hl2QS",
        "outputId": "f7f26962-0036-4820-e859-4a6089370f57"
      },
      "execution_count": 5,
      "outputs": [
        {
          "output_type": "stream",
          "name": "stderr",
          "text": [
            "/usr/local/lib/python3.8/dist-packages/pulp/pulp.py:1352: UserWarning: Spaces are not permitted in the name. Converted to '_'\n",
            "  warnings.warn(\"Spaces are not permitted in the name. Converted to '_'\")\n"
          ]
        }
      ]
    },
    {
      "cell_type": "code",
      "source": [
        "#solving the model\n",
        "status=model.solve()\n",
        "\n",
        "print(\"total cost=\", pl.value(model.objective))\n",
        "\n",
        "\n",
        "for v in model.variables():\n",
        "    print(v.name, v.varValue)"
      ],
      "metadata": {
        "colab": {
          "base_uri": "https://localhost:8080/"
        },
        "id": "jH-L6B_LmYXB",
        "outputId": "0ebd18dc-5b5a-4423-c075-5b38ec0ba422"
      },
      "execution_count": 7,
      "outputs": [
        {
          "output_type": "stream",
          "name": "stdout",
          "text": [
            "total cost= 297164.3824\n",
            "F_1 0.0\n",
            "F_2 0.0\n",
            "F_3 0.0\n",
            "F_4 0.0\n",
            "F_5 0.0\n",
            "F_6 0.0\n",
            "H_1 0.0\n",
            "H_2 83.880434\n",
            "H_3 0.0\n",
            "H_4 353.90779\n",
            "H_5 0.0\n",
            "H_6 0.0\n",
            "I_0 500.0\n",
            "I_1 0.0\n",
            "I_2 0.0\n",
            "I_3 0.0\n",
            "I_4 0.0\n",
            "I_5 378.37838\n",
            "I_6 600.0\n",
            "P_1 780.0\n",
            "P_2 640.0\n",
            "P_3 900.0\n",
            "P_4 1200.0\n",
            "P_5 2378.3784\n",
            "P_6 1621.6216\n",
            "W_0 300.0\n",
            "W_1 300.0\n",
            "W_2 383.88043\n",
            "W_3 383.88043\n",
            "W_4 737.78822\n",
            "W_5 737.78822\n",
            "W_6 737.78822\n"
          ]
        }
      ]
    }
  ]
}