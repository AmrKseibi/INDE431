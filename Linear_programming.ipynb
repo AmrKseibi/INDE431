{
  "nbformat": 4,
  "nbformat_minor": 0,
  "metadata": {
    "colab": {
      "provenance": [],
      "authorship_tag": "ABX9TyM4J2gvhUibr2tfdR9L9zVF",
      "include_colab_link": true
    },
    "kernelspec": {
      "name": "python3",
      "display_name": "Python 3"
    },
    "language_info": {
      "name": "python"
    }
  },
  "cells": [
    {
      "cell_type": "markdown",
      "metadata": {
        "id": "view-in-github",
        "colab_type": "text"
      },
      "source": [
        "<a href=\"https://colab.research.google.com/github/husseintarhini/INDE431/blob/main/Linear_programming.ipynb\" target=\"_parent\"><img src=\"https://colab.research.google.com/assets/colab-badge.svg\" alt=\"Open In Colab\"/></a>"
      ]
    },
    {
      "cell_type": "markdown",
      "metadata": {
        "id": "oPxGvVUd6kvg"
      },
      "source": [
        "**Install the PuLP library**\n",
        "PuLP is an LP modeler written in Python. It is not installed by default on google collab.\n"
      ]
    },
    {
      "cell_type": "code",
      "metadata": {
        "colab": {
          "base_uri": "https://localhost:8080/"
        },
        "id": "Be9H29v15Pih",
        "outputId": "df1b493f-517d-49cc-c10a-3ca3d094ab27"
      },
      "source": [
        "!pip install PuLP"
      ],
      "execution_count": null,
      "outputs": [
        {
          "output_type": "stream",
          "name": "stdout",
          "text": [
            "Collecting PuLP\n",
            "  Downloading PuLP-2.6.0-py3-none-any.whl (14.2 MB)\n",
            "\u001b[K     |████████████████████████████████| 14.2 MB 5.2 MB/s \n",
            "\u001b[?25hInstalling collected packages: PuLP\n",
            "Successfully installed PuLP-2.6.0\n"
          ]
        }
      ]
    },
    {
      "cell_type": "markdown",
      "metadata": {
        "id": "Q_EGyfmK7NG0"
      },
      "source": [
        "**Import the puLP library so you can use it**"
      ]
    },
    {
      "cell_type": "code",
      "metadata": {
        "id": "1LTz-nA64pnJ"
      },
      "source": [
        "import pulp as pl #import the pulp library\n",
        "import pandas as pd\n"
      ],
      "execution_count": null,
      "outputs": []
    },
    {
      "cell_type": "markdown",
      "metadata": {
        "id": "2RXLn8My7YmU"
      },
      "source": [
        "**Step 0: Define the problem paramters and the LP model**\n",
        "\n",
        "In this example, the parameters are the demand level, the cost of production and the holding cost."
      ]
    },
    {
      "cell_type": "code",
      "metadata": {
        "id": "c_D3fbzq5h2v"
      },
      "source": [
        "#problem parameters\n",
        "D=[0,100,250,190,140,220,110] #demands at time t\n",
        "# alternate approach D={1:100,2:250,....}\n",
        "c=[0,50,45,55,48,52,50] #cost in $ per window at time t\n",
        "h=8 # storage cost in $/window/month\n",
        "model= pl.LpProblem(\"Production_Planning\")"
      ],
      "execution_count": null,
      "outputs": []
    },
    {
      "cell_type": "markdown",
      "metadata": {
        "id": "npdj6fGQ71sh"
      },
      "source": [
        "**Step 1: Define the decision variables**"
      ]
    },
    {
      "cell_type": "code",
      "metadata": {
        "id": "FFe7jdIz5vKi"
      },
      "source": [
        "#decision variables\n",
        "P= pl.LpVariable.dicts(\"P\", range(1,7),lowBound=0) #range(1,7) is equivalent to [1,7) => [1,6]],Pt is defined on [1,6] during the production season\n",
        "I=pl.LpVariable.dicts(\"I\",range(7),lowBound=0 ) # range(7) is equivalent to [0,7)=> [0,6]"
      ],
      "execution_count": null,
      "outputs": []
    },
    {
      "cell_type": "markdown",
      "metadata": {
        "id": "XSVRvWeC8Xyo"
      },
      "source": [
        "\n",
        "**Step 2: Write the problem's constraints**"
      ]
    },
    {
      "cell_type": "code",
      "metadata": {
        "id": "_AeMewIF527n"
      },
      "source": [
        "#constraints\n",
        "for t in range(1,7): #[1,6]\n",
        "    model += I[t] == I[t-1]+P[t]-D[t],'Constraint {}'.format(t)\n",
        "\n",
        "\n",
        "model += I[0] ==25, 'Constraint 0'"
      ],
      "execution_count": null,
      "outputs": []
    },
    {
      "cell_type": "markdown",
      "metadata": {
        "id": "rGcemWFa8zYt"
      },
      "source": [
        "**Step 3: Write the Objective function**"
      ]
    },
    {
      "cell_type": "code",
      "metadata": {
        "id": "H3e-mGjQ5yku"
      },
      "source": [
        "#objective function\n",
        "model += pl.lpSum(c[t]*P[t] for t in range(1,7))+pl.lpSum(8*I[t] for t in range(7))"
      ],
      "execution_count": null,
      "outputs": []
    },
    {
      "cell_type": "markdown",
      "metadata": {
        "id": "7DwWBS_L888k"
      },
      "source": [
        "**Step 4: Retrieve the solution**"
      ]
    },
    {
      "cell_type": "code",
      "metadata": {
        "colab": {
          "base_uri": "https://localhost:8080/"
        },
        "id": "P0e6zCoW57ph",
        "outputId": "eaacc4f9-13af-46c6-a9f6-578f6bc66e7f"
      },
      "source": [
        "status=model.solve()\n",
        "\n",
        "print(\"total cost=\", pl.value(model.objective))\n",
        "\n",
        "for v in model.variables():\n",
        "    print(v.name, v.varValue)\n",
        "\n",
        "\n",
        "o = [{'name':name,'shadow price':c.pi, 'slack': c.slack} for name, c in model.constraints.items()]\n",
        "print(pd.DataFrame(o))"
      ],
      "execution_count": null,
      "outputs": [
        {
          "output_type": "stream",
          "name": "stdout",
          "text": [
            "total cost= 48930.0\n",
            "I_0 25.0\n",
            "I_1 0.0\n",
            "I_2 190.0\n",
            "I_3 0.0\n",
            "I_4 0.0\n",
            "I_5 0.0\n",
            "I_6 0.0\n",
            "P_1 75.0\n",
            "P_2 440.0\n",
            "P_3 0.0\n",
            "P_4 140.0\n",
            "P_5 220.0\n",
            "P_6 110.0\n",
            "           name  shadow price  slack\n",
            "0  Constraint_1         -50.0   -0.0\n",
            "1  Constraint_2         -45.0   -0.0\n",
            "2  Constraint_3         -53.0   -0.0\n",
            "3  Constraint_4         -48.0   -0.0\n",
            "4  Constraint_5         -52.0   -0.0\n",
            "5  Constraint_6         -50.0   -0.0\n",
            "6  Constraint_0         -42.0   -0.0\n"
          ]
        }
      ]
    },
    {
      "cell_type": "code",
      "source": [
        "status"
      ],
      "metadata": {
        "colab": {
          "base_uri": "https://localhost:8080/"
        },
        "id": "5Un4Pzr6ZDsA",
        "outputId": "9d2ae2d9-cedb-41c7-8105-2b4e1e9f8626"
      },
      "execution_count": null,
      "outputs": [
        {
          "output_type": "execute_result",
          "data": {
            "text/plain": [
              "1"
            ]
          },
          "metadata": {},
          "execution_count": 8
        }
      ]
    }
  ]
}