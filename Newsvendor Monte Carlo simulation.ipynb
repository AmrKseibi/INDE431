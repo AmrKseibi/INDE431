{
  "nbformat": 4,
  "nbformat_minor": 0,
  "metadata": {
    "colab": {
      "provenance": [],
      "authorship_tag": "ABX9TyNSi8ux5REn8D25EVr7rBAp",
      "include_colab_link": true
    },
    "kernelspec": {
      "name": "python3",
      "display_name": "Python 3"
    },
    "language_info": {
      "name": "python"
    }
  },
  "cells": [
    {
      "cell_type": "markdown",
      "metadata": {
        "id": "view-in-github",
        "colab_type": "text"
      },
      "source": [
        "<a href=\"https://colab.research.google.com/github/husseintarhini/INDE431/blob/main/Newsvendor%20Monte%20Carlo%20simulation.ipynb\" target=\"_parent\"><img src=\"https://colab.research.google.com/assets/colab-badge.svg\" alt=\"Open In Colab\"/></a>"
      ]
    },
    {
      "cell_type": "code",
      "execution_count": null,
      "metadata": {
        "colab": {
          "base_uri": "https://localhost:8080/"
        },
        "id": "vLd92MPejCQG",
        "outputId": "db188ff9-9a5d-4d68-a470-63c293167dbb"
      },
      "outputs": [
        {
          "output_type": "stream",
          "name": "stderr",
          "text": [
            "/usr/local/lib/python3.9/dist-packages/numpy/core/fromnumeric.py:86: VisibleDeprecationWarning: Creating an ndarray from ragged nested sequences (which is a list-or-tuple of lists-or-tuples-or ndarrays with different lengths or shapes) is deprecated. If you meant to do this, you must specify 'dtype=object' when creating the ndarray.\n",
            "  return ufunc.reduce(obj, axis, dtype, out, **passkwargs)\n"
          ]
        },
        {
          "output_type": "stream",
          "name": "stdout",
          "text": [
            "Optimization terminated successfully.\n",
            "         Current function value: 129.159709\n",
            "         Iterations: 51\n",
            "         Function evaluations: 102\n"
          ]
        }
      ],
      "source": [
        "# -*- coding: utf-8 -*-\n",
        "\"\"\"\n",
        "Created on Thu Mar 18 10:56:43 2021\n",
        "\n",
        "@author: ht27\n",
        "\"\"\"\n",
        "\n",
        "import numpy as np\n",
        "Cu=9\n",
        "Co=5\n",
        "n=10000\n",
        "\n",
        "def C(S,D):\n",
        "    return Cu*np.max([D-S,0])+Co*np.max([S-D,0])\n",
        "\n",
        "def EC(S):\n",
        "    np.random.seed(0)\n",
        "    TotalCost=0\n",
        "    for i in range(n):\n",
        "        D=np.random.normal(100,25)\n",
        "        TotalCost+=C(S,D)\n",
        "    return TotalCost/n\n",
        "        \n",
        "\n",
        "from scipy.optimize import minimize\n",
        "from scipy.stats import norm\n",
        "res = minimize(EC, 0, method='nelder-mead',options={'xatol': 1e-8, 'disp': True})       \n",
        "Ssimulated=res.x\n",
        "Soptimal= norm.ppf(Cu/(Cu+Co),100,25)"
      ]
    },
    {
      "cell_type": "code",
      "source": [
        "Soptimal #via critical fractile"
      ],
      "metadata": {
        "colab": {
          "base_uri": "https://localhost:8080/"
        },
        "id": "FHu5v3JejaJT",
        "outputId": "a365c524-1441-4828-db90-fbcbcf6cc88f"
      },
      "execution_count": null,
      "outputs": [
        {
          "output_type": "execute_result",
          "data": {
            "text/plain": [
              "109.15265892001425"
            ]
          },
          "metadata": {},
          "execution_count": 3
        }
      ]
    },
    {
      "cell_type": "code",
      "source": [
        "Ssimulated"
      ],
      "metadata": {
        "colab": {
          "base_uri": "https://localhost:8080/"
        },
        "id": "F0IkHNnknYXw",
        "outputId": "163fce99-2120-4bc3-aedd-661ffc131521"
      },
      "execution_count": null,
      "outputs": [
        {
          "output_type": "execute_result",
          "data": {
            "text/plain": [
              "array([108.25087786])"
            ]
          },
          "metadata": {},
          "execution_count": 4
        }
      ]
    }
  ]
}